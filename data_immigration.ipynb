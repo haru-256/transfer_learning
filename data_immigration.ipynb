{
 "cells": [
  {
   "cell_type": "markdown",
   "metadata": {},
   "source": [
    "# Food 101 のデータを学習データとテストデータに分ける"
   ]
  },
  {
   "cell_type": "code",
   "execution_count": 46,
   "metadata": {},
   "outputs": [],
   "source": [
    "import shutil\n",
    "import pathlib\n",
    "import pandas\n",
    "from sklearn import model_selection"
   ]
  },
  {
   "cell_type": "code",
   "execution_count": 47,
   "metadata": {},
   "outputs": [
    {
     "data": {
      "text/plain": [
       "PosixPath('/media/yohei/0fbc0584-e807-41ef-a550-287e246c6cda/data/food-101/images')"
      ]
     },
     "execution_count": 47,
     "metadata": {},
     "output_type": "execute_result"
    }
   ],
   "source": [
    "data_dir = pathlib.Path(\"../data/food-101/images/\").resolve()\n",
    "data_dir"
   ]
  },
  {
   "cell_type": "code",
   "execution_count": 48,
   "metadata": {},
   "outputs": [
    {
     "name": "stdout",
     "output_type": "stream",
     "text": [
      "make directory /media/yohei/0fbc0584-e807-41ef-a550-287e246c6cda/data/food-101/images/train\n",
      "make directory /media/yohei/0fbc0584-e807-41ef-a550-287e246c6cda/data/food-101/images/val\n",
      "make directory /media/yohei/0fbc0584-e807-41ef-a550-287e246c6cda/data/food-101/images/test\n"
     ]
    }
   ],
   "source": [
    "train_dir = data_dir / \"train\"\n",
    "val_dir= data_dir / \"val\"\n",
    "test_dir = data_dir / \"test\"\n",
    "\n",
    "for path in [train_dir, val_dir, test_dir]:\n",
    "    if not path.exists():\n",
    "        path.mkdir()\n",
    "        print(\"make directory\", path)"
   ]
  },
  {
   "cell_type": "code",
   "execution_count": 49,
   "metadata": {},
   "outputs": [],
   "source": [
    "data_dir = pathlib.Path(\"../data/food-101/images/datas/\").resolve()\n",
    "train_data_path_file = pathlib.Path(\"../data/food-101/meta/train.txt\").resolve()\n",
    "test_data_path_file = pathlib.Path(\"../data/food-101/meta/test.txt\").resolve()"
   ]
  },
  {
   "cell_type": "markdown",
   "metadata": {},
   "source": [
    "## 学習データの移動"
   ]
  },
  {
   "cell_type": "code",
   "execution_count": 50,
   "metadata": {},
   "outputs": [],
   "source": [
    "with open(train_data_path_file, \"r\") as file:\n",
    "    for path in file:\n",
    "        # pathの読み込み\n",
    "        path = data_dir / \"{}.jpg\".format(path[:-1])  # 画像へのパス\n",
    "        class_dir = train_dir / path.parts[-2]  # クラスラベルのディレクトリ\n",
    "        if not class_dir.exists():\n",
    "            class_dir.mkdir()\n",
    "            \n",
    "        # 画像ファイルの移動\n",
    "        shutil.move(path, train_dir / \"/\".join(path.parts[-2:]))"
   ]
  },
  {
   "cell_type": "markdown",
   "metadata": {},
   "source": [
    "## テストデータの移動"
   ]
  },
  {
   "cell_type": "code",
   "execution_count": 51,
   "metadata": {},
   "outputs": [],
   "source": [
    "with open(test_data_path_file, \"r\") as file:\n",
    "    for path in file:\n",
    "        # pathの読み込み\n",
    "        path = data_dir / \"{}.jpg\".format(path[:-1])  # 画像へのパス\n",
    "        class_dir = test_dir / path.parts[-2]  # クラスラベルのディレクトリ\n",
    "        if not class_dir.exists():\n",
    "            class_dir.mkdir()\n",
    "        # 画像ファイルの移動\n",
    "        shutil.move(path, test_dir / \"/\".join(path.parts[-2:]))"
   ]
  },
  {
   "cell_type": "code",
   "execution_count": null,
   "metadata": {},
   "outputs": [],
   "source": []
  }
 ],
 "metadata": {
  "kernelspec": {
   "display_name": "Python 3",
   "language": "python",
   "name": "python3"
  },
  "language_info": {
   "codemirror_mode": {
    "name": "ipython",
    "version": 3
   },
   "file_extension": ".py",
   "mimetype": "text/x-python",
   "name": "python",
   "nbconvert_exporter": "python",
   "pygments_lexer": "ipython3",
   "version": "3.6.4"
  }
 },
 "nbformat": 4,
 "nbformat_minor": 2
}
