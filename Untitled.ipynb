{
 "cells": [
  {
   "cell_type": "code",
   "execution_count": 30,
   "metadata": {},
   "outputs": [],
   "source": [
    "import json\n",
    "import pathlib\n",
    "from collections import OrderedDict"
   ]
  },
  {
   "cell_type": "code",
   "execution_count": 42,
   "metadata": {},
   "outputs": [],
   "source": [
    "file_path = pathlib.Path(\"hoge.json\")"
   ]
  },
  {
   "cell_type": "code",
   "execution_count": 43,
   "metadata": {},
   "outputs": [],
   "source": [
    "loss = 10\n",
    "acc = 0.6\n",
    "epoch = OrderedDict(loss = loss, acc=acc)"
   ]
  },
  {
   "cell_type": "code",
   "execution_count": 44,
   "metadata": {},
   "outputs": [],
   "source": [
    "line = OrderedDict()\n",
    "for i in range(10):\n",
    "    loss = i*10\n",
    "    acc = i*0.1\n",
    "    epoch = OrderedDict(train_loss = loss, train_acc=acc)\n",
    "    line[\"epoch_{}\".format(i)] = epoch"
   ]
  },
  {
   "cell_type": "code",
   "execution_count": 45,
   "metadata": {},
   "outputs": [],
   "source": [
    "with open(file_path, \"w\") as f:\n",
    "    json.dump(line, f, indent=4, sort_keys=True, separators=(',', ': '))"
   ]
  },
  {
   "cell_type": "code",
   "execution_count": 47,
   "metadata": {},
   "outputs": [],
   "source": [
    "with open(file_path, \"r\") as f:\n",
    "    log = json.load(f)"
   ]
  },
  {
   "cell_type": "code",
   "execution_count": 52,
   "metadata": {},
   "outputs": [
    {
     "name": "stdout",
     "output_type": "stream",
     "text": [
      "{'train_acc': 0.0, 'train_loss': 0}\n",
      "{'train_acc': 0.1, 'train_loss': 10}\n",
      "{'train_acc': 0.2, 'train_loss': 20}\n",
      "{'train_acc': 0.30000000000000004, 'train_loss': 30}\n",
      "{'train_acc': 0.4, 'train_loss': 40}\n",
      "{'train_acc': 0.5, 'train_loss': 50}\n",
      "{'train_acc': 0.6000000000000001, 'train_loss': 60}\n",
      "{'train_acc': 0.7000000000000001, 'train_loss': 70}\n",
      "{'train_acc': 0.8, 'train_loss': 80}\n",
      "{'train_acc': 0.9, 'train_loss': 90}\n"
     ]
    }
   ],
   "source": [
    "for i in log.values():\n",
    "    print(i)"
   ]
  },
  {
   "cell_type": "code",
   "execution_count": 54,
   "metadata": {},
   "outputs": [],
   "source": [
    "line.update(epoch_10=OrderedDict(train_loss = 10, train_acc=10))"
   ]
  },
  {
   "cell_type": "code",
   "execution_count": 56,
   "metadata": {},
   "outputs": [
    {
     "data": {
      "text/plain": [
       "OrderedDict([('train_loss', 10), ('train_acc', 10)])"
      ]
     },
     "execution_count": 56,
     "metadata": {},
     "output_type": "execute_result"
    }
   ],
   "source": [
    "line['epoch_10']"
   ]
  },
  {
   "cell_type": "code",
   "execution_count": 63,
   "metadata": {},
   "outputs": [],
   "source": [
    "line['epoch_1'].update(OrderedDict(test_loss = 10, test_acc=10))"
   ]
  },
  {
   "cell_type": "code",
   "execution_count": 61,
   "metadata": {},
   "outputs": [],
   "source": [
    "line['epoch_1'].update(val_loss=10)"
   ]
  },
  {
   "cell_type": "code",
   "execution_count": 64,
   "metadata": {},
   "outputs": [
    {
     "data": {
      "text/plain": [
       "OrderedDict([('train_loss', 10),\n",
       "             ('train_acc', 0.1),\n",
       "             ('val_loss', 10),\n",
       "             ('test_loss', 10),\n",
       "             ('test_acc', 10)])"
      ]
     },
     "execution_count": 64,
     "metadata": {},
     "output_type": "execute_result"
    }
   ],
   "source": [
    "line['epoch_1']"
   ]
  },
  {
   "cell_type": "code",
   "execution_count": 68,
   "metadata": {},
   "outputs": [
    {
     "data": {
      "text/plain": [
       "'--------------------------------------------------'"
      ]
     },
     "execution_count": 68,
     "metadata": {},
     "output_type": "execute_result"
    }
   ],
   "source": [
    "\"-\"*50"
   ]
  },
  {
   "cell_type": "code",
   "execution_count": null,
   "metadata": {},
   "outputs": [],
   "source": []
  }
 ],
 "metadata": {
  "kernelspec": {
   "display_name": "Python 3",
   "language": "python",
   "name": "python3"
  },
  "language_info": {
   "codemirror_mode": {
    "name": "ipython",
    "version": 3
   },
   "file_extension": ".py",
   "mimetype": "text/x-python",
   "name": "python",
   "nbconvert_exporter": "python",
   "pygments_lexer": "ipython3",
   "version": "3.6.5"
  }
 },
 "nbformat": 4,
 "nbformat_minor": 2
}
